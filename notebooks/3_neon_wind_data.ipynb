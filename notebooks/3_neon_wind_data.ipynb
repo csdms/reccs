{
 "cells": [
  {
   "cell_type": "markdown",
   "id": "0f2f4b40",
   "metadata": {},
   "source": [
    "# NEON wind data from Rocky Mountain National Park"
   ]
  },
  {
   "cell_type": "markdown",
   "id": "f0e23d33",
   "metadata": {},
   "source": [
    "The [National Ecological Observatory Network](https://www.neonscience.org/) (NEON) is a federally funded program that provides open, continental-scale data for characterizing and quantifying complex, rapidly changing ecological processes.\n",
    "NEON collects and processes data from 81 [field sites](https://www.neonscience.org/field-sites) located across the continental U.S., Puerto Rico, and Hawaii.\n",
    "All data are free and made publically available through the [NEON Data Portal](https://data.neonscience.org/)."
   ]
  },
  {
   "cell_type": "markdown",
   "id": "fc370b31",
   "metadata": {},
   "source": [
    "The [GitHub repository](https://github.com/csdms/reccs-2021/) for this workshop includes a dataset from NEON's [RMNP field site](https://www.neonscience.org/field-sites/rmnp).\n",
    "It contains [wind speed and direction](https://data.neonscience.org/data-products/DP1.00001.001) data for the month of September 2020 (during the  East Troublesome and Cameron Peak wildfires) as measured with a sonic anemometer."
   ]
  },
  {
   "cell_type": "markdown",
   "id": "ab466120",
   "metadata": {},
   "source": [
    "Let's read these data into our Jupyter Notebook with the Python *pandas* library, then display the data with the *matplotlib* library."
   ]
  },
  {
   "cell_type": "markdown",
   "id": "24efaec4",
   "metadata": {},
   "source": [
    "First, create a variable that describes where the data live on the file system.\n",
    "Note that the data file is in CSV format."
   ]
  },
  {
   "cell_type": "code",
   "execution_count": null,
   "id": "5d322808",
   "metadata": {
    "tags": []
   },
   "outputs": [],
   "source": [
    "data_file = \"../data/NEON.D10.RMNP.DP1.00001.001.000.010.030.2DWSD_30min.2020-09.basic.20210519T162557Z.csv\""
   ]
  },
  {
   "cell_type": "markdown",
   "id": "fc99c38e",
   "metadata": {},
   "source": [
    "Check that the file exists by importing a helper function from the *os* library."
   ]
  },
  {
   "cell_type": "code",
   "execution_count": null,
   "id": "de4774e6",
   "metadata": {
    "tags": []
   },
   "outputs": [],
   "source": [
    "import os\n",
    "\n",
    "os.path.exists(data_file)"
   ]
  },
  {
   "cell_type": "markdown",
   "id": "61dd3e03",
   "metadata": {},
   "source": [
    "Next, import the *pandas* library.\n",
    "Note that for convenience we import it with a nickname."
   ]
  },
  {
   "cell_type": "code",
   "execution_count": null,
   "id": "7d2c36e4",
   "metadata": {
    "tags": []
   },
   "outputs": [],
   "source": [
    "import pandas as pd"
   ]
  },
  {
   "cell_type": "markdown",
   "id": "76aa027f",
   "metadata": {},
   "source": [
    "Read the contents of the data file into a variable in the current Python session with the *pandas* *read_csv* function:"
   ]
  },
  {
   "cell_type": "code",
   "execution_count": null,
   "id": "8dbd8961",
   "metadata": {
    "tags": []
   },
   "outputs": [],
   "source": [
    "wind = pd.read_csv(data_file)"
   ]
  },
  {
   "cell_type": "markdown",
   "id": "a34685d7",
   "metadata": {},
   "source": [
    "Note the type of the `wind` variable."
   ]
  },
  {
   "cell_type": "code",
   "execution_count": null,
   "id": "ef0e9ac8",
   "metadata": {
    "tags": []
   },
   "outputs": [],
   "source": [
    "type(wind)"
   ]
  },
  {
   "cell_type": "markdown",
   "id": "a48582d0",
   "metadata": {},
   "source": [
    "Explore the contents of the `wind` variable.\n",
    "(The nice formatting is courtesy Jupyter Notebook.)"
   ]
  },
  {
   "cell_type": "code",
   "execution_count": null,
   "id": "ea601c8d",
   "metadata": {
    "tags": []
   },
   "outputs": [],
   "source": [
    "wind"
   ]
  },
  {
   "cell_type": "markdown",
   "id": "ce944480",
   "metadata": {},
   "source": [
    "Plot the mean wind speed versus time."
   ]
  },
  {
   "cell_type": "code",
   "execution_count": null,
   "id": "fdfbba33",
   "metadata": {
    "tags": []
   },
   "outputs": [],
   "source": [
    "wind.plot(x=\"startDateTime\", y=\"windSpeedMean\");"
   ]
  },
  {
   "cell_type": "markdown",
   "id": "a2a6ac36",
   "metadata": {},
   "source": [
    "## Exercises"
   ]
  },
  {
   "cell_type": "markdown",
   "id": "bb392e3a",
   "metadata": {},
   "source": [
    "E1: Can you find the mean wind speed over the entire period?"
   ]
  },
  {
   "cell_type": "code",
   "execution_count": null,
   "id": "ab19f140",
   "metadata": {
    "tags": []
   },
   "outputs": [],
   "source": [
    "# Your answer here"
   ]
  },
  {
   "cell_type": "markdown",
   "id": "6d286499-5b3c-4e7a-9b97-db096ee87620",
   "metadata": {},
   "source": [
    "<details>\n",
    "    <summary><span style=\"color: beige; font-weight: bold;\">Click for a solution</span></summary>\n",
    "\n",
    "```python\n",
    "\n",
    "wind[\"windSpeedMean\"].mean()\n",
    "```\n",
    "    \n",
    "</details>\n"
   ]
  },
  {
   "cell_type": "markdown",
   "id": "ff3db767",
   "metadata": {},
   "source": [
    "E2: Show, programmatically, the first and last time values in the dataset."
   ]
  },
  {
   "cell_type": "code",
   "execution_count": null,
   "id": "1f67d3dd",
   "metadata": {},
   "outputs": [],
   "source": [
    "# Your answers here"
   ]
  },
  {
   "cell_type": "markdown",
   "id": "127e1413-40d8-48b3-9ed1-3546a6a6b0b9",
   "metadata": {},
   "source": [
    "<details>\n",
    "    <summary><span style=\"color: beige; font-weight: bold;\">Click for a solution</span></summary>\n",
    "\n",
    "```python\n",
    "\n",
    "wind[\"startDateTime\"][0]\n",
    "wind[\"endDateTime\"][len(wind)-1]\n",
    "```\n",
    "    \n",
    "</details>\n"
   ]
  }
 ],
 "metadata": {
  "kernelspec": {
   "display_name": "Python 3 (ipykernel)",
   "language": "python",
   "name": "python3"
  },
  "language_info": {
   "codemirror_mode": {
    "name": "ipython",
    "version": 3
   },
   "file_extension": ".py",
   "mimetype": "text/x-python",
   "name": "python",
   "nbconvert_exporter": "python",
   "pygments_lexer": "ipython3",
   "version": "3.9.9"
  }
 },
 "nbformat": 4,
 "nbformat_minor": 5
}
