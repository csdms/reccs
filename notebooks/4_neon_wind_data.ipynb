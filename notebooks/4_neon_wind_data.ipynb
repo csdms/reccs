{
 "cells": [
  {
   "cell_type": "markdown",
   "id": "0f2f4b40",
   "metadata": {},
   "source": [
    "# NEON wind data from Rocky Mountain National Park"
   ]
  },
  {
   "cell_type": "markdown",
   "id": "f0e23d33",
   "metadata": {},
   "source": [
    "The [National Ecological Observatory Network](https://www.neonscience.org/) (NEON) is a federally funded program that provides open, continental-scale data for characterizing and quantifying complex, rapidly changing ecological processes.\n",
    "NEON collects and processes data from 81 [field sites](https://www.neonscience.org/field-sites) located across the continental U.S., Puerto Rico, and Hawaii.\n",
    "All data are free and made publically available through the [NEON Data Portal](https://data.neonscience.org/)."
   ]
  },
  {
   "cell_type": "markdown",
   "id": "fc370b31",
   "metadata": {},
   "source": [
    "The [GitHub repository](https://github.com/csdms/reccs-2021/) for this workshop includes a dataset from NEON's [RMNP field site](https://www.neonscience.org/field-sites/rmnp).\n",
    "It contains [wind speed and direction](https://data.neonscience.org/data-products/DP1.00001.001) data for the month of September 2020 (during the  East Troublesome and Cameron Peak wildfires) as measured with a sonic anemometer."
   ]
  },
  {
   "cell_type": "markdown",
   "id": "ab466120",
   "metadata": {},
   "source": [
    "Let's read these data into our Jupyter Notebook with the Python *pandas* library, then display the data with the *matplotlib* library."
   ]
  },
  {
   "cell_type": "markdown",
   "id": "24efaec4",
   "metadata": {},
   "source": [
    "First, create a variable that describes where the data live on the file system.\n",
    "Note that the data file is in CSV format."
   ]
  },
  {
   "cell_type": "code",
   "execution_count": 1,
   "id": "5d322808",
   "metadata": {},
   "outputs": [],
   "source": [
    "data_file = \"../data/NEON.D10.RMNP.DP1.00001.001.000.010.030.2DWSD_30min.2020-09.basic.20210519T162557Z.csv\""
   ]
  },
  {
   "cell_type": "markdown",
   "id": "fc99c38e",
   "metadata": {},
   "source": [
    "Check that the file exists by importing a helper function from the *os* library."
   ]
  },
  {
   "cell_type": "code",
   "execution_count": 2,
   "id": "de4774e6",
   "metadata": {},
   "outputs": [
    {
     "data": {
      "text/plain": [
       "True"
      ]
     },
     "execution_count": 2,
     "metadata": {},
     "output_type": "execute_result"
    }
   ],
   "source": [
    "import os\n",
    "\n",
    "os.path.exists(data_file)"
   ]
  },
  {
   "cell_type": "markdown",
   "id": "61dd3e03",
   "metadata": {},
   "source": [
    "Next, import the *pandas* library.\n",
    "Note that for convenience we import it with a nickname."
   ]
  },
  {
   "cell_type": "code",
   "execution_count": 3,
   "id": "7d2c36e4",
   "metadata": {},
   "outputs": [],
   "source": [
    "import pandas as pd"
   ]
  },
  {
   "cell_type": "markdown",
   "id": "76aa027f",
   "metadata": {},
   "source": [
    "Read the contents of the data file into a variable in the current Python session with the *pandas* *read_csv* function:"
   ]
  },
  {
   "cell_type": "code",
   "execution_count": 4,
   "id": "8dbd8961",
   "metadata": {},
   "outputs": [],
   "source": [
    "wind = pd.read_csv(data_file)"
   ]
  },
  {
   "cell_type": "markdown",
   "id": "a34685d7",
   "metadata": {},
   "source": [
    "Note the type of the `wind` variable."
   ]
  },
  {
   "cell_type": "code",
   "execution_count": 5,
   "id": "ef0e9ac8",
   "metadata": {},
   "outputs": [
    {
     "data": {
      "text/plain": [
       "pandas.core.frame.DataFrame"
      ]
     },
     "execution_count": 5,
     "metadata": {},
     "output_type": "execute_result"
    }
   ],
   "source": [
    "type(wind)"
   ]
  },
  {
   "cell_type": "markdown",
   "id": "a48582d0",
   "metadata": {},
   "source": [
    "Explore the contents of the `wind` variable.\n",
    "(The nice formatting is courtesy Jupyter Notebook.)"
   ]
  },
  {
   "cell_type": "code",
   "execution_count": 6,
   "id": "ea601c8d",
   "metadata": {},
   "outputs": [
    {
     "data": {
      "text/html": [
       "<div>\n",
       "<style scoped>\n",
       "    .dataframe tbody tr th:only-of-type {\n",
       "        vertical-align: middle;\n",
       "    }\n",
       "\n",
       "    .dataframe tbody tr th {\n",
       "        vertical-align: top;\n",
       "    }\n",
       "\n",
       "    .dataframe thead th {\n",
       "        text-align: right;\n",
       "    }\n",
       "</style>\n",
       "<table border=\"1\" class=\"dataframe\">\n",
       "  <thead>\n",
       "    <tr style=\"text-align: right;\">\n",
       "      <th></th>\n",
       "      <th>startDateTime</th>\n",
       "      <th>endDateTime</th>\n",
       "      <th>windSpeedMean</th>\n",
       "      <th>windSpeedMinimum</th>\n",
       "      <th>windSpeedMaximum</th>\n",
       "      <th>windSpeedVariance</th>\n",
       "      <th>windSpeedNumPts</th>\n",
       "      <th>windSpeedExpUncert</th>\n",
       "      <th>windSpeedStdErMean</th>\n",
       "      <th>windSpeedFinalQF</th>\n",
       "      <th>windDirMean</th>\n",
       "      <th>windDirVariance</th>\n",
       "      <th>windDirNumPts</th>\n",
       "      <th>windDirExpUncert</th>\n",
       "      <th>windDirStdErMean</th>\n",
       "      <th>windDirFinalQF</th>\n",
       "    </tr>\n",
       "  </thead>\n",
       "  <tbody>\n",
       "    <tr>\n",
       "      <th>0</th>\n",
       "      <td>2020-09-01T00:00:00Z</td>\n",
       "      <td>2020-09-01T00:30:00Z</td>\n",
       "      <td>0.60</td>\n",
       "      <td>0.00</td>\n",
       "      <td>2.38</td>\n",
       "      <td>0.11</td>\n",
       "      <td>1796.0</td>\n",
       "      <td>0.05</td>\n",
       "      <td>0.01</td>\n",
       "      <td>0</td>\n",
       "      <td>174.47</td>\n",
       "      <td>3383.41</td>\n",
       "      <td>1796.0</td>\n",
       "      <td>0.07</td>\n",
       "      <td>0.02</td>\n",
       "      <td>0</td>\n",
       "    </tr>\n",
       "    <tr>\n",
       "      <th>1</th>\n",
       "      <td>2020-09-01T00:30:00Z</td>\n",
       "      <td>2020-09-01T01:00:00Z</td>\n",
       "      <td>0.66</td>\n",
       "      <td>0.00</td>\n",
       "      <td>2.85</td>\n",
       "      <td>0.11</td>\n",
       "      <td>1800.0</td>\n",
       "      <td>0.06</td>\n",
       "      <td>0.01</td>\n",
       "      <td>0</td>\n",
       "      <td>192.59</td>\n",
       "      <td>3027.92</td>\n",
       "      <td>1800.0</td>\n",
       "      <td>0.07</td>\n",
       "      <td>0.02</td>\n",
       "      <td>0</td>\n",
       "    </tr>\n",
       "    <tr>\n",
       "      <th>2</th>\n",
       "      <td>2020-09-01T01:00:00Z</td>\n",
       "      <td>2020-09-01T01:30:00Z</td>\n",
       "      <td>0.48</td>\n",
       "      <td>0.00</td>\n",
       "      <td>1.05</td>\n",
       "      <td>0.04</td>\n",
       "      <td>1800.0</td>\n",
       "      <td>0.02</td>\n",
       "      <td>0.00</td>\n",
       "      <td>0</td>\n",
       "      <td>203.78</td>\n",
       "      <td>4534.19</td>\n",
       "      <td>1800.0</td>\n",
       "      <td>0.07</td>\n",
       "      <td>0.03</td>\n",
       "      <td>0</td>\n",
       "    </tr>\n",
       "    <tr>\n",
       "      <th>3</th>\n",
       "      <td>2020-09-01T01:30:00Z</td>\n",
       "      <td>2020-09-01T02:00:00Z</td>\n",
       "      <td>0.54</td>\n",
       "      <td>0.02</td>\n",
       "      <td>2.29</td>\n",
       "      <td>0.12</td>\n",
       "      <td>1800.0</td>\n",
       "      <td>0.05</td>\n",
       "      <td>0.01</td>\n",
       "      <td>0</td>\n",
       "      <td>246.52</td>\n",
       "      <td>6228.83</td>\n",
       "      <td>1800.0</td>\n",
       "      <td>0.07</td>\n",
       "      <td>0.04</td>\n",
       "      <td>0</td>\n",
       "    </tr>\n",
       "    <tr>\n",
       "      <th>4</th>\n",
       "      <td>2020-09-01T02:00:00Z</td>\n",
       "      <td>2020-09-01T02:30:00Z</td>\n",
       "      <td>0.97</td>\n",
       "      <td>0.06</td>\n",
       "      <td>3.34</td>\n",
       "      <td>0.21</td>\n",
       "      <td>1800.0</td>\n",
       "      <td>0.07</td>\n",
       "      <td>0.01</td>\n",
       "      <td>0</td>\n",
       "      <td>321.62</td>\n",
       "      <td>879.97</td>\n",
       "      <td>1800.0</td>\n",
       "      <td>0.07</td>\n",
       "      <td>0.03</td>\n",
       "      <td>0</td>\n",
       "    </tr>\n",
       "    <tr>\n",
       "      <th>...</th>\n",
       "      <td>...</td>\n",
       "      <td>...</td>\n",
       "      <td>...</td>\n",
       "      <td>...</td>\n",
       "      <td>...</td>\n",
       "      <td>...</td>\n",
       "      <td>...</td>\n",
       "      <td>...</td>\n",
       "      <td>...</td>\n",
       "      <td>...</td>\n",
       "      <td>...</td>\n",
       "      <td>...</td>\n",
       "      <td>...</td>\n",
       "      <td>...</td>\n",
       "      <td>...</td>\n",
       "      <td>...</td>\n",
       "    </tr>\n",
       "    <tr>\n",
       "      <th>1435</th>\n",
       "      <td>2020-09-30T21:30:00Z</td>\n",
       "      <td>2020-09-30T22:00:00Z</td>\n",
       "      <td>0.79</td>\n",
       "      <td>0.01</td>\n",
       "      <td>2.73</td>\n",
       "      <td>0.18</td>\n",
       "      <td>1800.0</td>\n",
       "      <td>0.06</td>\n",
       "      <td>0.01</td>\n",
       "      <td>0</td>\n",
       "      <td>137.87</td>\n",
       "      <td>2986.19</td>\n",
       "      <td>1800.0</td>\n",
       "      <td>0.07</td>\n",
       "      <td>0.02</td>\n",
       "      <td>1</td>\n",
       "    </tr>\n",
       "    <tr>\n",
       "      <th>1436</th>\n",
       "      <td>2020-09-30T22:00:00Z</td>\n",
       "      <td>2020-09-30T22:30:00Z</td>\n",
       "      <td>0.87</td>\n",
       "      <td>0.03</td>\n",
       "      <td>3.34</td>\n",
       "      <td>0.23</td>\n",
       "      <td>1800.0</td>\n",
       "      <td>0.07</td>\n",
       "      <td>0.01</td>\n",
       "      <td>0</td>\n",
       "      <td>145.33</td>\n",
       "      <td>2193.17</td>\n",
       "      <td>1800.0</td>\n",
       "      <td>0.07</td>\n",
       "      <td>0.02</td>\n",
       "      <td>0</td>\n",
       "    </tr>\n",
       "    <tr>\n",
       "      <th>1437</th>\n",
       "      <td>2020-09-30T22:30:00Z</td>\n",
       "      <td>2020-09-30T23:00:00Z</td>\n",
       "      <td>0.60</td>\n",
       "      <td>0.01</td>\n",
       "      <td>2.34</td>\n",
       "      <td>0.09</td>\n",
       "      <td>1800.0</td>\n",
       "      <td>0.05</td>\n",
       "      <td>0.01</td>\n",
       "      <td>0</td>\n",
       "      <td>181.13</td>\n",
       "      <td>2110.84</td>\n",
       "      <td>1800.0</td>\n",
       "      <td>0.07</td>\n",
       "      <td>0.02</td>\n",
       "      <td>0</td>\n",
       "    </tr>\n",
       "    <tr>\n",
       "      <th>1438</th>\n",
       "      <td>2020-09-30T23:00:00Z</td>\n",
       "      <td>2020-09-30T23:30:00Z</td>\n",
       "      <td>0.43</td>\n",
       "      <td>0.01</td>\n",
       "      <td>1.46</td>\n",
       "      <td>0.04</td>\n",
       "      <td>1800.0</td>\n",
       "      <td>0.03</td>\n",
       "      <td>0.00</td>\n",
       "      <td>0</td>\n",
       "      <td>192.49</td>\n",
       "      <td>1469.22</td>\n",
       "      <td>1800.0</td>\n",
       "      <td>0.07</td>\n",
       "      <td>0.02</td>\n",
       "      <td>0</td>\n",
       "    </tr>\n",
       "    <tr>\n",
       "      <th>1439</th>\n",
       "      <td>2020-09-30T23:30:00Z</td>\n",
       "      <td>2020-10-01T00:00:00Z</td>\n",
       "      <td>0.43</td>\n",
       "      <td>0.01</td>\n",
       "      <td>1.46</td>\n",
       "      <td>0.03</td>\n",
       "      <td>1800.0</td>\n",
       "      <td>0.03</td>\n",
       "      <td>0.00</td>\n",
       "      <td>0</td>\n",
       "      <td>203.18</td>\n",
       "      <td>825.27</td>\n",
       "      <td>1800.0</td>\n",
       "      <td>0.07</td>\n",
       "      <td>0.01</td>\n",
       "      <td>0</td>\n",
       "    </tr>\n",
       "  </tbody>\n",
       "</table>\n",
       "<p>1440 rows × 16 columns</p>\n",
       "</div>"
      ],
      "text/plain": [
       "             startDateTime           endDateTime  windSpeedMean  \\\n",
       "0     2020-09-01T00:00:00Z  2020-09-01T00:30:00Z           0.60   \n",
       "1     2020-09-01T00:30:00Z  2020-09-01T01:00:00Z           0.66   \n",
       "2     2020-09-01T01:00:00Z  2020-09-01T01:30:00Z           0.48   \n",
       "3     2020-09-01T01:30:00Z  2020-09-01T02:00:00Z           0.54   \n",
       "4     2020-09-01T02:00:00Z  2020-09-01T02:30:00Z           0.97   \n",
       "...                    ...                   ...            ...   \n",
       "1435  2020-09-30T21:30:00Z  2020-09-30T22:00:00Z           0.79   \n",
       "1436  2020-09-30T22:00:00Z  2020-09-30T22:30:00Z           0.87   \n",
       "1437  2020-09-30T22:30:00Z  2020-09-30T23:00:00Z           0.60   \n",
       "1438  2020-09-30T23:00:00Z  2020-09-30T23:30:00Z           0.43   \n",
       "1439  2020-09-30T23:30:00Z  2020-10-01T00:00:00Z           0.43   \n",
       "\n",
       "      windSpeedMinimum  windSpeedMaximum  windSpeedVariance  windSpeedNumPts  \\\n",
       "0                 0.00              2.38               0.11           1796.0   \n",
       "1                 0.00              2.85               0.11           1800.0   \n",
       "2                 0.00              1.05               0.04           1800.0   \n",
       "3                 0.02              2.29               0.12           1800.0   \n",
       "4                 0.06              3.34               0.21           1800.0   \n",
       "...                ...               ...                ...              ...   \n",
       "1435              0.01              2.73               0.18           1800.0   \n",
       "1436              0.03              3.34               0.23           1800.0   \n",
       "1437              0.01              2.34               0.09           1800.0   \n",
       "1438              0.01              1.46               0.04           1800.0   \n",
       "1439              0.01              1.46               0.03           1800.0   \n",
       "\n",
       "      windSpeedExpUncert  windSpeedStdErMean  windSpeedFinalQF  windDirMean  \\\n",
       "0                   0.05                0.01                 0       174.47   \n",
       "1                   0.06                0.01                 0       192.59   \n",
       "2                   0.02                0.00                 0       203.78   \n",
       "3                   0.05                0.01                 0       246.52   \n",
       "4                   0.07                0.01                 0       321.62   \n",
       "...                  ...                 ...               ...          ...   \n",
       "1435                0.06                0.01                 0       137.87   \n",
       "1436                0.07                0.01                 0       145.33   \n",
       "1437                0.05                0.01                 0       181.13   \n",
       "1438                0.03                0.00                 0       192.49   \n",
       "1439                0.03                0.00                 0       203.18   \n",
       "\n",
       "      windDirVariance  windDirNumPts  windDirExpUncert  windDirStdErMean  \\\n",
       "0             3383.41         1796.0              0.07              0.02   \n",
       "1             3027.92         1800.0              0.07              0.02   \n",
       "2             4534.19         1800.0              0.07              0.03   \n",
       "3             6228.83         1800.0              0.07              0.04   \n",
       "4              879.97         1800.0              0.07              0.03   \n",
       "...               ...            ...               ...               ...   \n",
       "1435          2986.19         1800.0              0.07              0.02   \n",
       "1436          2193.17         1800.0              0.07              0.02   \n",
       "1437          2110.84         1800.0              0.07              0.02   \n",
       "1438          1469.22         1800.0              0.07              0.02   \n",
       "1439           825.27         1800.0              0.07              0.01   \n",
       "\n",
       "      windDirFinalQF  \n",
       "0                  0  \n",
       "1                  0  \n",
       "2                  0  \n",
       "3                  0  \n",
       "4                  0  \n",
       "...              ...  \n",
       "1435               1  \n",
       "1436               0  \n",
       "1437               0  \n",
       "1438               0  \n",
       "1439               0  \n",
       "\n",
       "[1440 rows x 16 columns]"
      ]
     },
     "execution_count": 6,
     "metadata": {},
     "output_type": "execute_result"
    }
   ],
   "source": [
    "wind"
   ]
  },
  {
   "cell_type": "markdown",
   "id": "f788dc80",
   "metadata": {},
   "source": [
    "To visualize the data, import the *pyplot* module of the *matplotlib* library.\n",
    "Use a nickname for convenience."
   ]
  },
  {
   "cell_type": "code",
   "execution_count": 7,
   "id": "1dfc4a6b",
   "metadata": {},
   "outputs": [],
   "source": [
    "import matplotlib.pyplot as plt"
   ]
  },
  {
   "cell_type": "markdown",
   "id": "ce944480",
   "metadata": {},
   "source": [
    "Plot the mean wind speed versus time."
   ]
  },
  {
   "cell_type": "code",
   "execution_count": 8,
   "id": "fdfbba33",
   "metadata": {},
   "outputs": [
    {
     "data": {
      "image/png": "[encoded data removed]",
      "text/plain": [
       "<Figure size 432x288 with 1 Axes>"
      ]
     },
     "metadata": {
      "needs_background": "light"
     },
     "output_type": "display_data"
    }
   ],
   "source": [
    "wind.plot(x=\"startDateTime\", y=\"windSpeedMean\");"
   ]
  },
  {
   "cell_type": "markdown",
   "id": "a2a6ac36",
   "metadata": {},
   "source": [
    "## Exercises"
   ]
  },
  {
   "cell_type": "markdown",
   "id": "bb392e3a",
   "metadata": {},
   "source": [
    "E1: Can you find the mean wind speed over the entire period?"
   ]
  },
  {
   "cell_type": "code",
   "execution_count": 9,
   "id": "ab19f140",
   "metadata": {},
   "outputs": [],
   "source": [
    "# Your answer here"
   ]
  },
  {
   "cell_type": "markdown",
   "id": "ff3db767",
   "metadata": {},
   "source": [
    "E2: Show, programmatically, the first and last time values in the dataset."
   ]
  },
  {
   "cell_type": "code",
   "execution_count": 10,
   "id": "1f67d3dd",
   "metadata": {},
   "outputs": [],
   "source": [
    "# Your answer here"
   ]
  }
 ],
 "metadata": {
  "kernelspec": {
   "display_name": "Python 3",
   "language": "python",
   "name": "python3"
  },
  "language_info": {
   "codemirror_mode": {
    "name": "ipython",
    "version": 3
   },
   "file_extension": ".py",
   "mimetype": "text/x-python",
   "name": "python",
   "nbconvert_exporter": "python",
   "pygments_lexer": "ipython3",
   "version": "3.9.4"
  }
 },
 "nbformat": 4,
 "nbformat_minor": 5
}
