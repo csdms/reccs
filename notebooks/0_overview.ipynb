{
 "cells": [
  {
   "cell_type": "markdown",
   "metadata": {},
   "source": [
    "# Python Programming in the Geosciences"
   ]
  },
  {
   "cell_type": "markdown",
   "metadata": {},
   "source": [
    "This is a two-part (morning and afternoon) interactive workshop on using Python in the geosciences to perform data analysis and visualization. The workshop is a part of the [RECCS](https://cires.colorado.edu/outreach/reccs) program at CU Boulder."
   ]
  },
  {
   "cell_type": "markdown",
   "metadata": {},
   "source": [
    "# Contents\n",
    "\n",
    "1. [Python fundamentals I](./1_python_fundamentals_a.ipynb)--just enough for the morning\n",
    "1. [Python libraries](./2_python_libraries.ipynb), which extend the base Python language\n",
    "1. [Examining NEON wind data](3_neon_wind_data.ipynb) from Rocky Mountain National Park\n",
    "1. [Python fundamentals II](./4_python_fundamentals_b.ipynb)--more for the afternoon\n",
    "1. [NOAA-CIRES reanalysis temperature data](./5_noaa_cires_reanalysis_temperature_data.ipynb) at global 2.5 degree resolution"
   ]
  },
  {
   "cell_type": "markdown",
   "metadata": {},
   "source": [
    "Each section of the workshop is contained in a separate [Jupyter Notebook](https://jupyter.org/).\n",
    "Within each notebook there is a mixture of text, code, and exercises."
   ]
  },
  {
   "cell_type": "markdown",
   "metadata": {},
   "source": [
    "If you haven't used a Jupyter Notebook before, there are main things to know:\n",
    "* There are two modes: *command* and *edit*\n",
    "* From *command* mode, press `Enter` to change to *edit* mode (and edit the current cell)\n",
    "* From *edit* mode, press `Esc` to change to *command* mode\n",
    "* Press `Shift` + `Enter` to execute the code in the current cell\n",
    "\n",
    "All of the above can be also be done through the toolbar."
   ]
  },
  {
   "cell_type": "markdown",
   "metadata": {
    "solution": "hidden",
    "solution2": "hidden",
    "solution2_first": true,
    "solution_first": true
   },
   "source": [
    "## Exercise: Add text and code to a notebook"
   ]
  },
  {
   "cell_type": "markdown",
   "metadata": {},
   "source": [
    "Add some text to a Markdown cell:"
   ]
  },
  {
   "cell_type": "markdown",
   "metadata": {},
   "source": [
    "<!-- Your text here -->"
   ]
  },
  {
   "cell_type": "markdown",
   "metadata": {},
   "source": [
    "Enter the Python command `print(\"Hello, World!\")` and run it:"
   ]
  },
  {
   "cell_type": "code",
   "execution_count": null,
   "metadata": {},
   "outputs": [],
   "source": [
    "# Your code here"
   ]
  }
 ],
 "metadata": {
  "kernelspec": {
   "display_name": "Python 3 (ipykernel)",
   "language": "python",
   "name": "python3"
  },
  "language_info": {
   "codemirror_mode": {
    "name": "ipython",
    "version": 3
   },
   "file_extension": ".py",
   "mimetype": "text/x-python",
   "name": "python",
   "nbconvert_exporter": "python",
   "pygments_lexer": "ipython3",
   "version": "3.9.9"
  }
 },
 "nbformat": 4,
 "nbformat_minor": 4
}
