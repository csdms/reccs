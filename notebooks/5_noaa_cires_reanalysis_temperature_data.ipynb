{
 "cells": [
  {
   "cell_type": "markdown",
   "id": "6399ef7d",
   "metadata": {},
   "source": [
    "# NOAA-CIRES Reanalysis temperature data"
   ]
  },
  {
   "cell_type": "markdown",
   "id": "8f13324a",
   "metadata": {},
   "source": [
    "The NOAA-CIRES [Twentieth Century Reanalysis (V2)](https://psl.noaa.gov/data/gridded/data.20thC_ReanV2.html) project provides objectively analyzed four-dimensional (latitude, longitude, height, time) weather data and their uncertainty.\n",
    "Data are available from 1871 January 1 through 2012 December 31,\n",
    "and are presented with 6-hr, daily, and monthly means\n",
    "on a 2.5-degree latitude x 2.5-degree longitude global grid\n",
    "at multiple pressure levels in the atmosphere, from the surface to 10 mb."
   ]
  },
  {
   "cell_type": "markdown",
   "id": "692207b5",
   "metadata": {},
   "source": [
    "The [GitHub repository](https://github.com/csdms/reccs-2021/) for this workshop includes a Twentieth Century Reanalysis (V2) dataset that contains daily mean 500 mb [geopotential height](https://en.wikipedia.org/wiki/Geopotential_height) data for a single day in 2010."
   ]
  },
  {
   "cell_type": "markdown",
   "id": "298749a4",
   "metadata": {},
   "source": [
    "The goal of this exercise is to read these data into this notebook and display them."
   ]
  },
  {
   "cell_type": "markdown",
   "id": "e4a6ddb5",
   "metadata": {},
   "source": [
    "The data are in [NetCDF](https://en.wikipedia.org/wiki/NetCDF), a data storage format that's ubiquitous in the geosciences. Over the years, there have been several libraries developed in Python to read and write NetCDF files, including:\n",
    "\n",
    "* scipy.io.netcdf\n",
    "* netcdf4\n",
    "* xarray\n",
    "\n",
    "The last, [*xarray*]((http://xarray.pydata.org/en/stable/)), is the current best choice for working with NetCDF.\n",
    "(It's really amazing.)\n",
    "However, this example is old--I think I wrote it first in 2011--and rather than rewrite it to use *xarray*, I kept the original library.\n",
    "I think this shows the power of a well-written Python library:\n",
    "it continues to work even after it's been superseded by a newer technology."
   ]
  },
  {
   "cell_type": "markdown",
   "id": "bd92b279",
   "metadata": {},
   "source": [
    "Start by importing libraries used in this example. There are several."
   ]
  },
  {
   "cell_type": "code",
   "execution_count": null,
   "id": "bad89584",
   "metadata": {},
   "outputs": [],
   "source": [
    "import time\n",
    "import calendar\n",
    "import math\n",
    "import numpy as np\n",
    "from scipy.io import netcdf_file\n",
    "from matplotlib import pyplot as plt\n",
    "from mpl_toolkits.basemap import Basemap"
   ]
  },
  {
   "cell_type": "markdown",
   "id": "742f9920",
   "metadata": {},
   "source": [
    "Because there's a bit of work required to read, prepare, and plot the data, I've broken the work into steps, each with a function to do the work of the step.\n",
    "\n",
    "The first is a function called *read*:"
   ]
  },
  {
   "cell_type": "code",
   "execution_count": null,
   "id": "604cf396",
   "metadata": {},
   "outputs": [],
   "source": [
    "def read(reanalysis_file):\n",
    "    \"\"\" Reads data from a NOAA-CIRES 20th Century Reanalysis V2 file.\n",
    "\n",
    "    The file is NetCDF. It contains global 2.5-deg daily mean 500 mb heights.\n",
    "    \n",
    "    Parameters\n",
    "    ----------\n",
    "    reanalysis_file : str\n",
    "      The path to a 20CRv2 file.\n",
    "      \n",
    "    Returns\n",
    "    -------\n",
    "    dict\n",
    "      A dictionary of data read from the file.\n",
    "\n",
    "    \"\"\"\n",
    "    try:\n",
    "        f = netcdf_file(reanalysis_file, 'r', mmap=False)\n",
    "    except IOError:\n",
    "        print('File \"' + reanalysis_file + '\" cannot be read.')\n",
    "        return\n",
    "\n",
    "    data = {\n",
    "        'file':f.filename,\n",
    "        'level':f.variables['level'][0],\n",
    "        'time':f.variables['time'], \n",
    "        'hgt':f.variables['hgt'], \n",
    "        'lat':f.variables['lat'], \n",
    "        'lon':f.variables['lon']\n",
    "        }\n",
    "    f.close()\n",
    "\n",
    "    return data"
   ]
  },
  {
   "cell_type": "markdown",
   "id": "0b76ed7e",
   "metadata": {},
   "source": [
    "Let's identify the data file and use the *read* function to load its contents."
   ]
  },
  {
   "cell_type": "code",
   "execution_count": null,
   "id": "4b9bdbea",
   "metadata": {},
   "outputs": [],
   "source": [
    "rean_file = \"../data/X174.29.255.181.65.14.23.9.nc\"\n",
    "rean_data = read(rean_file)\n",
    "rean_data"
   ]
  },
  {
   "cell_type": "markdown",
   "id": "b517b7e1",
   "metadata": {},
   "source": [
    "**Discussion:** What happened here?"
   ]
  },
  {
   "cell_type": "code",
   "execution_count": null,
   "id": "2dcd9350",
   "metadata": {},
   "outputs": [],
   "source": [
    "# Take a quick look at the file contents with a built-in NetCDF tool.\n",
    "\n",
    "# !ncdump -h \"../data/X174.29.255.181.65.14.23.9.nc\""
   ]
  },
  {
   "cell_type": "markdown",
   "id": "fac0bd8e",
   "metadata": {},
   "source": [
    "To prepare the data for plotting, use another function, called *prep*:"
   ]
  },
  {
   "cell_type": "code",
   "execution_count": null,
   "id": "81de8e67",
   "metadata": {},
   "outputs": [],
   "source": [
    "def prep(rean_data):\n",
    "    \"\"\"Prepares 20th Century Reanalysis V2 for display.\n",
    "    \n",
    "    Converts data read from a NOAA-CIRES 20th Century Reanalysis V2\n",
    "    file into more convenient formats. Returns a dict containing lon, lat\n",
    "    and hgt as NumPy arrays, and time as list of struct_time tuples.\n",
    "    \n",
    "    Parameters\n",
    "    ----------\n",
    "    rean_data : dict\n",
    "      A dict of data as returned from the `read` function.\n",
    "      \n",
    "    Returns\n",
    "    -------\n",
    "    dict\n",
    "      A dict containing lon, lat and hgt as NumPy arrays, and time as list\n",
    "      of struct_time tuples.\n",
    "\n",
    "    \"\"\"\n",
    "    # Make a dict for storing results.\n",
    "    data = {\n",
    "        'lat' : rean_data['lat'].data, \n",
    "        'lon' : rean_data['lon'].data\n",
    "        }\n",
    "\n",
    "    # Apply scale_factor and add_offset properties to hgt variable.\n",
    "    # Add to data dict.\n",
    "    data['hgt'] = rean_data['hgt'].data * rean_data['hgt'].scale_factor \\\n",
    "                  + rean_data['hgt'].add_offset\n",
    "\n",
    "    # Convert time variable (which is in hours since 0001-01-01) into\n",
    "    # calendar dates. Add to data dict.\n",
    "    start_time = '0001-01-01' # from rean_data['time'].units\n",
    "    start_time_cal = time.strptime(start_time, '%Y-%m-%d')\n",
    "    start_time_sec = calendar.timegm(start_time_cal)\n",
    "    sec_in_hour = 60.0*60.0\n",
    "    time_in_sec = rean_data['time'].data*sec_in_hour + start_time_sec\n",
    "    time_in_struct_time = [time.gmtime(i) for i in time_in_sec]\n",
    "    data['time'] = [time.strftime('%Y-%m-%d', j) for j in time_in_struct_time]\n",
    "\n",
    "    return data"
   ]
  },
  {
   "cell_type": "markdown",
   "id": "0da06e31",
   "metadata": {},
   "source": [
    "Pass the data read from the reanalysis file through the *prep* function:"
   ]
  },
  {
   "cell_type": "code",
   "execution_count": null,
   "id": "e4a26715",
   "metadata": {},
   "outputs": [],
   "source": [
    "prep_data = prep(rean_data)\n",
    "prep_data"
   ]
  },
  {
   "cell_type": "markdown",
   "id": "7a244ff9",
   "metadata": {},
   "source": [
    "**Discussion:** What happened here?"
   ]
  },
  {
   "cell_type": "markdown",
   "id": "758fbf27",
   "metadata": {},
   "source": [
    "The data are now ready to be plotted.\n",
    "\n",
    "To perform this task, use a third function, *view*:"
   ]
  },
  {
   "cell_type": "code",
   "execution_count": null,
   "id": "71244753",
   "metadata": {},
   "outputs": [],
   "source": [
    "def view(prep_data, dayofyear=46, show=False, outfile='gph.png'):\n",
    "    \"\"\"Draws a contour plot of the mean 500 mb geopotential surface.\n",
    "    \n",
    "    Plot is for a specified day of the year with data from a NOAA-CIRES\n",
    "    20th Century Reanalysis file. The plot can be saved to a PNG file.\n",
    "    \n",
    "    Parameters\n",
    "    ----------\n",
    "    prep_data : dict\n",
    "      A dict of data returned from the `prep` function.\n",
    "    day_of_year: int, optional\n",
    "      An ordinal date.\n",
    "    show : bool, optional\n",
    "      Set this flag to display plot on screen; otherwise, write to file.\n",
    "    outfile : str, optional\n",
    "      Name of PNG file.\n",
    "\n",
    "    \"\"\"\n",
    "\n",
    "    # Set up map projection.\n",
    "    map = Basemap(projection='ortho',\n",
    "                  lon_0=-105,\n",
    "                  lat_0=60,\n",
    "                  resolution='l')\n",
    "    map.drawcoastlines()\n",
    "    map.drawmapboundary()\n",
    "    map.drawparallels(range(-90, 120, 30))\n",
    "    map.drawmeridians(range(0, 420, 60))\n",
    "\n",
    "    # Transform lat/lon into map coordinates (meters).\n",
    "    x, y = map(*np.meshgrid(prep_data['lon'], prep_data['lat']))\n",
    "\n",
    "    # Extract a single day of heights.\n",
    "    hgt = prep_data['hgt'][dayofyear, 0, :, :]\n",
    "\n",
    "    # Set up consistent contour levels so the colorbar doesn't change.\n",
    "    delta = 100\n",
    "    hgt_min = math.floor(prep_data['hgt'].min()/delta)*delta\n",
    "    hgt_max = math.ceil(prep_data['hgt'].max()/delta)*delta\n",
    "    clevels = np.arange(hgt_min, hgt_max, delta)\n",
    "\n",
    "    # Draw contours of gph and annotate.\n",
    "    c = map.contourf(x, y, hgt, levels=clevels, cmap=plt.cm.RdYlBu_r)\n",
    "    cb = map.colorbar(c, 'right', size=\"3%\", pad='5%')\n",
    "    cb.set_label('Geopotential Height (m)')\n",
    "    plt.title('500 mb Geopotential Heights : ' + prep_data['time'][dayofyear])\n",
    "    plt.text(0.5*max(plt.axis()), -0.1*max(plt.axis()),\n",
    "             'Data: NOAA-CIRES 20th Century Reanalysis, Version 2',\n",
    "             fontsize=10,\n",
    "             verticalalignment='bottom',\n",
    "             horizontalalignment='center')\n",
    "\n",
    "    # Either show plot or save it to a PNG file.\n",
    "    if show is True:\n",
    "        plt.show()\n",
    "    else:\n",
    "        plt.savefig(outfile, dpi=96)\n",
    "        plt.close()\n",
    "\n",
    "    return"
   ]
  },
  {
   "cell_type": "markdown",
   "id": "568468a8",
   "metadata": {},
   "source": [
    "Pass the prepared data into the *view* function to produce a plot."
   ]
  },
  {
   "cell_type": "code",
   "execution_count": null,
   "id": "82aa3ec4",
   "metadata": {},
   "outputs": [],
   "source": [
    "view(prep_data, show=True)"
   ]
  },
  {
   "cell_type": "markdown",
   "id": "516286b7",
   "metadata": {},
   "source": [
    "## Summary"
   ]
  },
  {
   "cell_type": "markdown",
   "id": "d8120d1b",
   "metadata": {},
   "source": [
    "That's it! Go forth and try new things in Python."
   ]
  }
 ],
 "metadata": {
  "kernelspec": {
   "display_name": "Python 3 (ipykernel)",
   "language": "python",
   "name": "python3"
  },
  "language_info": {
   "codemirror_mode": {
    "name": "ipython",
    "version": 3
   },
   "file_extension": ".py",
   "mimetype": "text/x-python",
   "name": "python",
   "nbconvert_exporter": "python",
   "pygments_lexer": "ipython3",
   "version": "3.9.9"
  }
 },
 "nbformat": 4,
 "nbformat_minor": 5
}
